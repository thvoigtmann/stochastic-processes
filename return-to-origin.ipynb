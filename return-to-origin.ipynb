{
 "cells": [
  {
   "cell_type": "markdown",
   "id": "d57a4c60",
   "metadata": {},
   "source": [
    "## Return Probability of a Random Walk on the 3D Cubic Lattice"
   ]
  },
  {
   "cell_type": "code",
   "execution_count": 1,
   "id": "d8fb07f2",
   "metadata": {},
   "outputs": [],
   "source": [
    "import numpy as np\n",
    "import matplotlib.pyplot as plt"
   ]
  },
  {
   "cell_type": "code",
   "execution_count": 89,
   "id": "2e08f0b3",
   "metadata": {},
   "outputs": [],
   "source": [
    "import scipy.optimize"
   ]
  },
  {
   "cell_type": "markdown",
   "id": "7048ff9e",
   "metadata": {},
   "source": [
    "This notebook implements a direct evaluation of the formula for the return probability to a 3D random walk on the cubic lattice. We start by the probability $u_N$ that a return occurs at step $N$. Obviously, $N$ has to be even, and direct combinatorics leads to the formula (in 3D)\n",
    "$$ u_{2n} = \\frac{1}{6^{2n}} \\sum_{j,k\\le n}\\frac{(2n)!}{j!j!k!k!(n-j-k)!(n-j-k)!}$$\n",
    "The probability $f_N$ that a return occurs _for the first time_ at step $N$ is related to $u_N$ through the moment expansion (see lecture/tutorials). We are interested the probability of the walk to ever return, $f=\\sum_Nf_N$.\n",
    "\n",
    "We introduce the moment-generating functions $U(k)=\\sum_{N=0}^\\infty u_Nk^N$ and $F(k)=\\sum_{N=0}^\\infty f_Nk^N$. Since\n",
    "$$ u_N=\\sum_{M=0}^Nf_{M-N}u_M $$\n",
    "by definition (with $u_0=1$ and $f_0=0$), we get, multiplying both sides with $k^N$ and summing all $N\\ge1$: $U(k)-1=U(k)F(k)$, or $$F(k)=1-1/U(k)$$ with $f=F(1)$. Thus, if $U(1)=\\sum_Nu_N$ diverges, the walk returns to the origin almost certainly. This is the case in 1D and 2D. Let us calculate the sum in 3D:"
   ]
  },
  {
   "cell_type": "code",
   "execution_count": 70,
   "id": "3990a05e",
   "metadata": {},
   "outputs": [],
   "source": [
    "udirect = np.zeros(51)\n",
    "udirect[0] = 1\n",
    "for n in range(1,len(udirect)):\n",
    "    un = 0\n",
    "    fn = np.math.factorial(n)\n",
    "    b2n = np.math.factorial(2*n)/fn/fn\n",
    "    for k in range(n+1):\n",
    "        fk = np.math.factorial(k)\n",
    "        for j in range(0,n-k+1):\n",
    "            fj = np.math.factorial(j)\n",
    "            fnkj = np.math.factorial(n-k-j)\n",
    "            un = un + b2n*np.power(fn/(fk*fj*fnkj),2)\n",
    "    un = un * 1./6.**(2.*n)\n",
    "    udirect[n] = un"
   ]
  },
  {
   "cell_type": "markdown",
   "id": "bd777e48",
   "metadata": {},
   "source": [
    "One can estimate the large-$n$ behavior of this sum, and we verify that\n",
    "$$ u_{2n}\\sim\\frac{1}{n^{3/2}} $$"
   ]
  },
  {
   "cell_type": "code",
   "execution_count": 71,
   "id": "06b6f0ee",
   "metadata": {},
   "outputs": [
    {
     "data": {
      "image/png": "[encoded data removed]",
      "text/plain": [
       "<Figure size 432x288 with 1 Axes>"
      ]
     },
     "metadata": {
      "needs_background": "light"
     },
     "output_type": "display_data"
    }
   ],
   "source": [
    "xr = np.arange(len(udirect))\n",
    "plt.loglog(xr[1:],udirect[1:])\n",
    "plt.loglog(xr[1:],0.25/np.power(xr[1:],1.5),ls='dashed',label=r'$\\sim n^{-3/2}$')\n",
    "plt.xlabel(r'$2n$')\n",
    "plt.ylabel(r'$u_{2n}$')\n",
    "plt.legend()\n",
    "plt.show()"
   ]
  },
  {
   "cell_type": "markdown",
   "id": "6477298b",
   "metadata": {},
   "source": [
    "From $f=F(1)=1-1/U(1)$, we can estimate $f$ by the $n\\to\\infty$ limit of the accumulated sum:"
   ]
  },
  {
   "cell_type": "code",
   "execution_count": 72,
   "id": "ee98c06c",
   "metadata": {},
   "outputs": [],
   "source": [
    "fdirect = 1.-1./(np.cumsum(udirect))"
   ]
  },
  {
   "cell_type": "code",
   "execution_count": 73,
   "id": "1a85ba2f",
   "metadata": {},
   "outputs": [
    {
     "data": {
      "image/png": "[encoded data removed]",
      "text/plain": [
       "<Figure size 432x288 with 1 Axes>"
      ]
     },
     "metadata": {
      "needs_background": "light"
     },
     "output_type": "display_data"
    }
   ],
   "source": [
    "xr = np.arange(len(fdirect))\n",
    "plt.plot(xr[1:],fdirect[1:])\n",
    "plt.xscale('log')\n",
    "plt.xlabel(r'$2n$')\n",
    "plt.ylabel(r'$f$ estimate')\n",
    "plt.show()"
   ]
  },
  {
   "cell_type": "markdown",
   "id": "3ce8886a",
   "metadata": {},
   "source": [
    "Note that the finite-$n$ values in the above plot do not have significance. We need to go to $n$ large enough so that the sum seems to have converged. As we can see, this is not yet the case.\n",
    "\n",
    "The above naïve code runs into a problem: for large $n$, the factorials become too large for the computer. The trick is to use the Euler Gamma function, $\\Gamma(n+1)=n!$ for integer $n$. The function $\\ln\\Gamma(n)$ can be evaluated directly, and this remains reasonably small. In our sum, we take case to apply the exponential only to arguments that are expected to remain within bounds.\n",
    "\n",
    "This allows to calculate for large $n$. Note that the code still scales terribly, because of the double sum it has $\\mathcal O(n^2)$ complexity. Try changing nmax in the code below. "
   ]
  },
  {
   "cell_type": "code",
   "execution_count": 86,
   "id": "35b32bef",
   "metadata": {},
   "outputs": [],
   "source": [
    "nmax = 200\n",
    "udirect = np.zeros(nmax+1)\n",
    "udirect[0] = 1\n",
    "for n in range(1,len(udirect)):\n",
    "    un = 0\n",
    "    lfn = np.math.lgamma(n+1)\n",
    "    lb2n = np.math.lgamma(2*n+1)-2*np.math.lgamma(n+1)\n",
    "    for k in range(n+1):\n",
    "        lfk = np.math.lgamma(k+1)\n",
    "        for j in range(0,n-k+1):\n",
    "            lfj = np.math.lgamma(j+1)\n",
    "            lfnkj = np.math.lgamma(n-k-j+1)\n",
    "            un = un + np.exp(lb2n+2*(lfn-lfk-lfj-lfnkj)-2*n*np.log(6.))\n",
    "    udirect[n] = un"
   ]
  },
  {
   "cell_type": "code",
   "execution_count": 87,
   "id": "0259bafd",
   "metadata": {},
   "outputs": [],
   "source": [
    "fdirect = 1.-1./(np.cumsum(udirect))"
   ]
  },
  {
   "cell_type": "markdown",
   "id": "fe550dc3",
   "metadata": {},
   "source": [
    "We can inspect that most likely, the values for $f$ have not yet converged. Assuming that the approach to the asymptotic value is power-law like, let us fit the large-$n$ portion of the calculated values to extract an estimate for $f$."
   ]
  },
  {
   "cell_type": "code",
   "execution_count": 105,
   "id": "d51ffd49",
   "metadata": {},
   "outputs": [
    {
     "name": "stdout",
     "output_type": "stream",
     "text": [
      "fitted estimate f = 0.34024849006530233\n"
     ]
    }
   ],
   "source": [
    "xr = np.arange(len(fdirect))\n",
    "popt,pcov=scipy.optimize.curve_fit(lambda x,f,a,b: f-a*x**-b,xr[10:],fdirect[10:])\n",
    "print ('fitted estimate f = {}'.format(popt[0]))"
   ]
  },
  {
   "cell_type": "markdown",
   "id": "de10480a",
   "metadata": {},
   "source": [
    "In fact, the literature value (Pólya's random walk constant) is $f\\simeq0.340537$."
   ]
  },
  {
   "cell_type": "code",
   "execution_count": 107,
   "id": "73e642fc",
   "metadata": {},
   "outputs": [
    {
     "data": {
      "image/png": "[encoded data removed]",
      "text/plain": [
       "<Figure size 432x288 with 1 Axes>"
      ]
     },
     "metadata": {
      "needs_background": "light"
     },
     "output_type": "display_data"
    }
   ],
   "source": [
    "xr = np.arange(len(fdirect))\n",
    "plt.plot(xr[1:],fdirect[1:])\n",
    "xr = np.arange(1500)\n",
    "plt.plot(xr[1:],popt[0]-popt[1]*xr[1:]**-popt[2],ls='dotted')\n",
    "plt.xscale('log')\n",
    "plt.xlabel(r'$2n$')\n",
    "plt.ylabel(r'$f$ estimate')\n",
    "plt.show()"
   ]
  },
  {
   "cell_type": "code",
   "execution_count": null,
   "id": "02a9e52e",
   "metadata": {},
   "outputs": [],
   "source": []
  }
 ],
 "metadata": {
  "kernelspec": {
   "display_name": "Python 3",
   "language": "python",
   "name": "python3"
  },
  "language_info": {
   "codemirror_mode": {
    "name": "ipython",
    "version": 3
   },
   "file_extension": ".py",
   "mimetype": "text/x-python",
   "name": "python",
   "nbconvert_exporter": "python",
   "pygments_lexer": "ipython3",
   "version": "3.9.7"
  }
 },
 "nbformat": 4,
 "nbformat_minor": 5
}
